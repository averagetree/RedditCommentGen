{
 "cells": [
  {
   "cell_type": "markdown",
   "id": "fdf7bbdc-5a70-428c-bbef-29a80ad3b06d",
   "metadata": {},
   "source": [
    "Imports"
   ]
  },
  {
   "cell_type": "code",
   "execution_count": 1,
   "id": "cfa2a0f9-3bdf-47e6-b9f5-cd38e9fbf15b",
   "metadata": {},
   "outputs": [
    {
     "name": "stderr",
     "output_type": "stream",
     "text": [
      "/Users/jb/Library/Python/3.9/lib/python/site-packages/tqdm/auto.py:22: TqdmWarning: IProgress not found. Please update jupyter and ipywidgets. See https://ipywidgets.readthedocs.io/en/stable/user_install.html\n",
      "  from .autonotebook import tqdm as notebook_tqdm\n"
     ]
    }
   ],
   "source": [
    "# System utilities\n",
    "import os\n",
    "from pathlib import Path\n",
    "import datetime\n",
    "import json\n",
    "import random\n",
    "\n",
    "# Reddit API\n",
    "import praw\n",
    "from praw.models import MoreComments\n",
    "import warnings\n",
    "warnings.filterwarnings(\"ignore\", category=DeprecationWarning)\n",
    "\n",
    "# Open AI API\n",
    "import openai\n",
    "\n",
    "# Pandas\n",
    "import pandas as pd\n",
    "\n",
    "# Models\n",
    "from transformers import pipeline\n",
    "from transformers import AutoTokenizer, AutoModelForSequenceClassification\n",
    "import torch\n",
    "import torch.nn.functional as F"
   ]
  },
  {
   "cell_type": "markdown",
   "id": "14873a85-8ff4-4714-8b83-dc998c2bb9b3",
   "metadata": {},
   "source": [
    "Data Collection"
   ]
  },
  {
   "cell_type": "code",
   "execution_count": 2,
   "id": "f3910b2d-d698-4899-96ae-841d155b63e2",
   "metadata": {},
   "outputs": [],
   "source": [
    "enableDataCollect = False"
   ]
  },
  {
   "cell_type": "code",
   "execution_count": 3,
   "id": "63bff674-bd67-4356-8a33-58c7094bac5a",
   "metadata": {},
   "outputs": [],
   "source": [
    "with open('secrets.json', 'r') as f:\n",
    "    data = f.read()\n",
    "\n",
    "secrets = json.loads(data)\n",
    "\n",
    "client_id = secrets['client_id']\n",
    "client_secret = secrets['client_secret']\n",
    "pw = secrets['password']\n",
    "user_agent = secrets['user_agent']\n",
    "user_name = secrets['username']"
   ]
  },
  {
   "cell_type": "code",
   "execution_count": 4,
   "id": "62c7d4a9-ac1b-40dc-a64e-8bc855147904",
   "metadata": {},
   "outputs": [],
   "source": [
    "reddit = praw.Reddit(\n",
    "    client_id=client_id,\n",
    "    client_secret=client_secret,\n",
    "    password=pw,\n",
    "    user_agent=user_agent,\n",
    "    username=user_name,\n",
    ")"
   ]
  },
  {
   "cell_type": "code",
   "execution_count": 5,
   "id": "b6556527-9d97-45ce-9c1a-258fee86eb7d",
   "metadata": {},
   "outputs": [],
   "source": [
    "def get_post_time(submission):\n",
    "        time = submission.created\n",
    "        return datetime.datetime.fromtimestamp(time)"
   ]
  },
  {
   "cell_type": "code",
   "execution_count": 6,
   "id": "394c0b3b-56c1-45e8-a252-7c427845db10",
   "metadata": {},
   "outputs": [],
   "source": [
    "def collect_post_info(subreddit, post_limit, time_filter, output_loc):\n",
    "    count = 0\n",
    "    \n",
    "    for submission in reddit.subreddit(subreddit).top(time_filter=time_filter, limit=post_limit):\n",
    "        if (submission.num_comments > 50):   \n",
    "            submissionList.append(submission.title)\n",
    "            \n",
    "            meta_col_list = ['id', 'title', 'time', 'upvotes', 'num_comments', 'assessment']\n",
    "            comment_col_list = ['id', 'text', 'time', 'upvotes', 'length', 'assessment']\n",
    "            \n",
    "            meta_df = pd.DataFrame(columns=meta_col_list)\n",
    "            meta_df.loc[0] = [count, submission.title, get_post_time(submission), submission.score, submission.num_comments, 0]\n",
    "            \n",
    "            comment_df = pd.DataFrame(columns=comment_col_list)\n",
    "            \n",
    "            post_meta_file = str(count) + \"_\" + submission.title[:10]\n",
    "            \n",
    "            output_path = output_loc + \"/\" + post_meta_file\n",
    "            \n",
    "            Path(output_path).mkdir(parents=True, exist_ok=True)\n",
    "            \n",
    "            output_file = output_path + \"/\" + post_meta_file\n",
    "            \n",
    "            meta_df.to_csv(output_file, index=False)\n",
    "            \n",
    "            comment_count = 0\n",
    "            for top_level_comment in submission.comments:\n",
    "                if isinstance(top_level_comment, MoreComments):\n",
    "                    continue\n",
    "                    \n",
    "                comment_row = pd.Series({'id': comment_count, 'text': top_level_comment.body, \n",
    "                                         'time': get_post_time(top_level_comment), 'upvotes': top_level_comment.score,\n",
    "                                         'length': 0, 'assessment': 0})\n",
    "                \n",
    "                comment_df = pd.concat([comment_df, comment_row.to_frame().T], ignore_index=True)\n",
    "                                                \n",
    "                comment_count = comment_count + 1\n",
    "                            \n",
    "            comment_output = output_path + \"/\" + post_meta_file + \"_comments\"\n",
    "            comment_df.to_csv(comment_output, index=False)\n",
    "            \n",
    "            comment_df\n",
    "        count = count + 1"
   ]
  },
  {
   "cell_type": "code",
   "execution_count": 7,
   "id": "e01cd5d9-12bd-4cbe-a611-be16124baebd",
   "metadata": {},
   "outputs": [],
   "source": [
    "subreddit_targets = ['sports', 'news', 'askreddit', 'movies', 'funny']"
   ]
  },
  {
   "cell_type": "code",
   "execution_count": 8,
   "id": "550e618a-3e86-4a60-8e2f-80c010c893f4",
   "metadata": {},
   "outputs": [
    {
     "name": "stdout",
     "output_type": "stream",
     "text": [
      "Skipping data collection\n"
     ]
    }
   ],
   "source": [
    "if (enableDataCollect):\n",
    "    root_path = \"subreddit\"\n",
    "\n",
    "    Path(root_path).mkdir(parents=True, exist_ok=True)\n",
    "\n",
    "    for subreddit in subreddit_targets:\n",
    "        dir_path = root_path + \"/\" + subreddit \n",
    "        Path(dir_path).mkdir(parents=True, exist_ok=True)\n",
    "\n",
    "        collect_post_info(subreddit, 10, \"all\", dir_path)\n",
    "else:\n",
    "    print(\"Skipping data collection\")"
   ]
  },
  {
   "cell_type": "markdown",
   "id": "721b34d4-d8d8-486c-9b67-e1c9b2aea2ff",
   "metadata": {},
   "source": [
    "Load Open AI"
   ]
  },
  {
   "cell_type": "code",
   "execution_count": 9,
   "id": "57b771c7-3325-455e-aa25-03777333bf19",
   "metadata": {},
   "outputs": [],
   "source": [
    "with open('secrets.json', 'r') as f:\n",
    "    data = f.read()\n",
    "\n",
    "secrets = json.loads(data)\n",
    "\n",
    "openai_key = secrets['openai_key']"
   ]
  },
  {
   "cell_type": "code",
   "execution_count": 10,
   "id": "44762e88-6c2f-44ff-8de4-d2e5a7c8dd49",
   "metadata": {},
   "outputs": [],
   "source": [
    "openai.api_key = openai_key"
   ]
  },
  {
   "cell_type": "markdown",
   "id": "db363d2f-480c-486c-abfb-77666c235e5e",
   "metadata": {},
   "source": [
    "Load Aspect Based Sentiment Analysis Model\n",
    "\n",
    "huggingface.co/yangheng/deberta-v3-base-absa-v1.1"
   ]
  },
  {
   "cell_type": "code",
   "execution_count": 12,
   "id": "6172f17a-81b1-4361-8341-2e01b9bd3264",
   "metadata": {},
   "outputs": [],
   "source": [
    "absa_tokenizer = AutoTokenizer.from_pretrained(\"yangheng/deberta-v3-base-absa-v1.1\", use_fast=False)\n",
    "absa_model = AutoModelForSequenceClassification.from_pretrained(\"yangheng/deberta-v3-base-absa-v1.1\")"
   ]
  },
  {
   "cell_type": "markdown",
   "id": "df16fb69-d174-48a2-994e-5c6210a04de2",
   "metadata": {},
   "source": [
    "Utility Functions"
   ]
  },
  {
   "cell_type": "code",
   "execution_count": 13,
   "id": "4f718a3c-2c6f-499e-90f6-4d201814eb7b",
   "metadata": {},
   "outputs": [],
   "source": [
    "def getResponseText(response):\n",
    "    return response.choices[0].text.strip()"
   ]
  },
  {
   "cell_type": "code",
   "execution_count": 14,
   "id": "a33397c7-566e-465a-8a7c-ca54cf7c6eb0",
   "metadata": {},
   "outputs": [],
   "source": [
    "def response_request(prompt_starter, title):\n",
    "    response = openai.Completion.create(\n",
    "        model=\"text-davinci-002\",\n",
    "        prompt=prompt_starter + title,\n",
    "        temperature=0,\n",
    "        max_tokens=100,\n",
    "        top_p=1,\n",
    "        frequency_penalty=0,\n",
    "        presence_penalty=0\n",
    "    )\n",
    "    \n",
    "    return response"
   ]
  },
  {
   "cell_type": "code",
   "execution_count": 15,
   "id": "5d356804-d559-4563-b49d-43a8217a5dba",
   "metadata": {},
   "outputs": [],
   "source": [
    "def get_all_comment_text(input_df):\n",
    "    all_text = \"\"\n",
    "\n",
    "    for index, row in input_df.iterrows():\n",
    "        all_text = all_text + row['text'] + \",\"\n",
    "        \n",
    "    return all_text"
   ]
  },
  {
   "cell_type": "code",
   "execution_count": 16,
   "id": "27694829-3043-4bc4-800f-e9fd78b85ebf",
   "metadata": {},
   "outputs": [],
   "source": [
    "def prompt_gen(keyword):\n",
    "    prompt_starter = \"Make a short and \" + keyword + \" reply about:\"\n",
    "    return prompt_starter"
   ]
  },
  {
   "cell_type": "code",
   "execution_count": 17,
   "id": "573f8a96-af94-4bfc-aed8-294093bb2d5d",
   "metadata": {},
   "outputs": [],
   "source": [
    "def get_sentiment_values(comment, aspect_keywords, sentiment_df_temp):\n",
    "    row_text = comment\n",
    "    gen_comment_row_values = [row_text]\n",
    "    prob_dict = {}\n",
    "    for aspect in aspect_keywords:\n",
    "        inputs = absa_tokenizer(f\"[CLS] {comment} [SEP] {aspect} [SEP]\", return_tensors=\"pt\")\n",
    "        outputs = absa_model(**inputs)\n",
    "        probs = F.softmax(outputs.logits, dim=1)\n",
    "        probs = probs.detach().numpy()[0]\n",
    "\n",
    "        for prob, label in zip(probs, ['neg', 'neu', 'pos']):                        \n",
    "            prob_type = aspect + \"_\" + label\n",
    "            print(f'Label {prob_type}: {prob}')\n",
    "            prob_dict.update({prob_type: prob})  \n",
    "            \n",
    "    for x in prob_dict:\n",
    "        gen_comment_row_values.append(prob_dict[x])        \n",
    "        \n",
    "    sentiment_df_temp.loc[len(sentiment_df_temp.index)] = gen_comment_row_values \n",
    "    \n",
    "    return sentiment_df_temp"
   ]
  },
  {
   "cell_type": "markdown",
   "id": "d8e9559b-080b-42fb-9189-cdae6f275c19",
   "metadata": {},
   "source": [
    "Main"
   ]
  },
  {
   "cell_type": "markdown",
   "id": "c2cd5368-795f-48a8-b143-acd2b01da207",
   "metadata": {},
   "source": [
    "Starting with loading the Data Set\n",
    "- For this example, the data set is one of the random top posts selected from the 'sports' subreddit\n"
   ]
  },
  {
   "cell_type": "code",
   "execution_count": 48,
   "id": "e5e71507-77b7-4822-888d-ebc712e4f0b1",
   "metadata": {},
   "outputs": [],
   "source": [
    "root_dir = \"subreddit/sports/\"\n",
    "\n",
    "ran_post = random.choice(os.listdir(root_dir))\n",
    "\n",
    "post_df = pd.read_csv(root_dir + ran_post + \"/\" + ran_post)\n",
    "comments_df = pd.read_csv(root_dir + ran_post + \"/\" + ran_post + \"_comments\")"
   ]
  },
  {
   "cell_type": "code",
   "execution_count": 49,
   "id": "71a80d3f-b400-4770-93f5-0217ea877f46",
   "metadata": {},
   "outputs": [
    {
     "name": "stdout",
     "output_type": "stream",
     "text": [
      "Post Metadata\n",
      "ID: 240\n",
      "Title: Suns center Bismack Biyombo is donating the entirety of his $1.3 million salary for this season, to fund the construction of a hospital in the Democratic Republic of the Congo\n",
      "Score: 52834\n",
      "Time Posted: 2022-04-07 06:41:02\n",
      "Number of Comments: 922\n"
     ]
    }
   ],
   "source": [
    "print(\"Post Metadata\")\n",
    "\n",
    "print(f\"ID: {str(post_df.iloc[0]['id'])}\")\n",
    "print(f\"Title: {post_df.iloc[0]['title']}\")\n",
    "print(f\"Score: {post_df.iloc[0]['upvotes']}\")\n",
    "print(f\"Time Posted: {post_df.iloc[0]['time']}\")\n",
    "print(f\"Number of Comments: {post_df.iloc[0]['num_comments']}\")"
   ]
  },
  {
   "cell_type": "markdown",
   "id": "95554da6-4ebf-4ba8-91e8-46b447a49242",
   "metadata": {},
   "source": [
    "Using open AI without any modifcations"
   ]
  },
  {
   "cell_type": "code",
   "execution_count": 50,
   "id": "a918a4f7-29da-409f-a832-99481982abf9",
   "metadata": {},
   "outputs": [
    {
     "data": {
      "text/plain": [
       "'This is an amazing act of charity by Bismack Biyombo. By donating his entire salary for this season, he will help fund the construction of a hospital in the Democratic Republic of the Congo. This will undoubtedly save many lives and improve the quality of life for countless people in the Congo.'"
      ]
     },
     "execution_count": 50,
     "metadata": {},
     "output_type": "execute_result"
    }
   ],
   "source": [
    "post_title = post_df.iloc[0]['title']\n",
    "\n",
    "response = openai.Completion.create(\n",
    "  model=\"text-davinci-002\",\n",
    "  prompt=\"Make a comment about: \" + post_title,\n",
    "  temperature=0,\n",
    "  max_tokens=100,\n",
    "  top_p=1,\n",
    "  frequency_penalty=0,\n",
    "  presence_penalty=0\n",
    ")\n",
    "\n",
    "getResponseText(response)"
   ]
  },
  {
   "cell_type": "markdown",
   "id": "4a8bf422-5274-49b7-9171-93e3a573e8d7",
   "metadata": {},
   "source": [
    "By itself, the openai model is able to produce a reasonable response to the question with no context beyond the post of the title. The response is a bit robotic, however, and it does not seem like something someone would post. Reformatting the prompt based on the other comments could benefit with making the prompt more realistic"
   ]
  },
  {
   "cell_type": "code",
   "execution_count": 51,
   "id": "792bda89-cad8-4ddc-864f-7e9c46081920",
   "metadata": {},
   "outputs": [
    {
     "data": {
      "text/plain": [
       "'\"Suns center Bismack Biyombo is donating the entirety of his $1.3 million salary for this season, to fund the construction of a hospital in the Democratic Republic of the Congo. That\\'s amazing! He\\'s really making a difference in the world.\"'"
      ]
     },
     "execution_count": 51,
     "metadata": {},
     "output_type": "execute_result"
    }
   ],
   "source": [
    "response = openai.Completion.create(\n",
    "  model=\"text-davinci-002\",\n",
    "  prompt=\"Make a basic first person comment about: \" + post_title,\n",
    "  temperature=0,\n",
    "  max_tokens=100,\n",
    "  top_p=1,\n",
    "  frequency_penalty=0,\n",
    "  presence_penalty=0\n",
    ")\n",
    "\n",
    "getResponseText(response)"
   ]
  },
  {
   "cell_type": "markdown",
   "id": "769a77cb-3e29-4015-a93d-46a36175b6f2",
   "metadata": {},
   "source": [
    "Better, but still not a 'reddit' looking comment"
   ]
  },
  {
   "cell_type": "code",
   "execution_count": 52,
   "id": "3a06e99f-5eac-4697-b64d-d1b6f137198b",
   "metadata": {},
   "outputs": [
    {
     "data": {
      "text/html": [
       "<div>\n",
       "<style scoped>\n",
       "    .dataframe tbody tr th:only-of-type {\n",
       "        vertical-align: middle;\n",
       "    }\n",
       "\n",
       "    .dataframe tbody tr th {\n",
       "        vertical-align: top;\n",
       "    }\n",
       "\n",
       "    .dataframe thead th {\n",
       "        text-align: right;\n",
       "    }\n",
       "</style>\n",
       "<table border=\"1\" class=\"dataframe\">\n",
       "  <thead>\n",
       "    <tr style=\"text-align: right;\">\n",
       "      <th></th>\n",
       "      <th>id</th>\n",
       "      <th>text</th>\n",
       "      <th>time</th>\n",
       "      <th>upvotes</th>\n",
       "      <th>length</th>\n",
       "      <th>assessment</th>\n",
       "    </tr>\n",
       "  </thead>\n",
       "  <tbody>\n",
       "    <tr>\n",
       "      <th>0</th>\n",
       "      <td>0</td>\n",
       "      <td>[**Join Our Discord Server!**](https://discord...</td>\n",
       "      <td>2022-04-07 07:33:02</td>\n",
       "      <td>1</td>\n",
       "      <td>0</td>\n",
       "      <td>0</td>\n",
       "    </tr>\n",
       "    <tr>\n",
       "      <th>1</th>\n",
       "      <td>1</td>\n",
       "      <td>Righteous men lift up others. Let’s go</td>\n",
       "      <td>2022-04-07 07:51:57</td>\n",
       "      <td>3171</td>\n",
       "      <td>0</td>\n",
       "      <td>0</td>\n",
       "    </tr>\n",
       "    <tr>\n",
       "      <th>2</th>\n",
       "      <td>2</td>\n",
       "      <td>Respect!</td>\n",
       "      <td>2022-04-07 07:27:39</td>\n",
       "      <td>921</td>\n",
       "      <td>0</td>\n",
       "      <td>0</td>\n",
       "    </tr>\n",
       "    <tr>\n",
       "      <th>3</th>\n",
       "      <td>3</td>\n",
       "      <td>He gave us Raptors fans lots to cheer for when...</td>\n",
       "      <td>2022-04-07 08:20:19</td>\n",
       "      <td>641</td>\n",
       "      <td>0</td>\n",
       "      <td>0</td>\n",
       "    </tr>\n",
       "    <tr>\n",
       "      <th>4</th>\n",
       "      <td>4</td>\n",
       "      <td>Is there a better name for a center in the his...</td>\n",
       "      <td>2022-04-07 09:14:44</td>\n",
       "      <td>69</td>\n",
       "      <td>0</td>\n",
       "      <td>0</td>\n",
       "    </tr>\n",
       "  </tbody>\n",
       "</table>\n",
       "</div>"
      ],
      "text/plain": [
       "   id                                               text                 time  \\\n",
       "0   0  [**Join Our Discord Server!**](https://discord...  2022-04-07 07:33:02   \n",
       "1   1             Righteous men lift up others. Let’s go  2022-04-07 07:51:57   \n",
       "2   2                                           Respect!  2022-04-07 07:27:39   \n",
       "3   3  He gave us Raptors fans lots to cheer for when...  2022-04-07 08:20:19   \n",
       "4   4  Is there a better name for a center in the his...  2022-04-07 09:14:44   \n",
       "\n",
       "   upvotes  length  assessment  \n",
       "0        1       0           0  \n",
       "1     3171       0           0  \n",
       "2      921       0           0  \n",
       "3      641       0           0  \n",
       "4       69       0           0  "
      ]
     },
     "execution_count": 52,
     "metadata": {},
     "output_type": "execute_result"
    }
   ],
   "source": [
    "comments_df.head()"
   ]
  },
  {
   "cell_type": "markdown",
   "id": "e0af62bd-9851-455c-a14c-dbb2aa902693",
   "metadata": {},
   "source": [
    "Aspect Based Sentiment Analysis"
   ]
  },
  {
   "cell_type": "code",
   "execution_count": 53,
   "id": "ec20223a-5489-4f72-9934-bfe70bee02ed",
   "metadata": {},
   "outputs": [],
   "source": [
    "aspect_keywords = [\n",
    "    'joking', \n",
    "    'excited',\n",
    "    'depressing',\n",
    "    'sarcastic',\n",
    "    'frustrating',\n",
    "    'annoying',\n",
    "    'joyful'\n",
    "]"
   ]
  },
  {
   "cell_type": "code",
   "execution_count": 54,
   "id": "906a268b-3f67-43b1-b634-1fbf778e69d3",
   "metadata": {},
   "outputs": [],
   "source": [
    "columns_list = ['text']\n",
    "\n",
    "for keyword in aspect_keywords:\n",
    "    columns_list.append(keyword + \"_neg\")\n",
    "    columns_list.append(keyword + \"_neu\")\n",
    "    columns_list.append(keyword + \"_pos\")\n",
    "\n",
    "comment_sentiment_df = pd.DataFrame(columns=columns_list)\n",
    "gen_comment_sentiment_df = pd.DataFrame(columns=columns_list)"
   ]
  },
  {
   "cell_type": "code",
   "execution_count": 55,
   "id": "4001051e-0c55-406b-a280-4b6b64a6f7df",
   "metadata": {},
   "outputs": [],
   "source": [
    "for index, row in comments_df.iterrows():\n",
    "    row_text = row['text']\n",
    "    comment_row_values = [row_text]\n",
    "    prob_dict = {}\n",
    "\n",
    "    for aspect in aspect_keywords:\n",
    "        inputs = absa_tokenizer(f\"[CLS] {row['text']} [SEP] {aspect} [SEP]\", return_tensors=\"pt\")\n",
    "        outputs = absa_model(**inputs)\n",
    "        probs = F.softmax(outputs.logits, dim=1)\n",
    "        probs = probs.detach().numpy()[0]\n",
    "\n",
    "        for prob, label in zip(probs, ['neg', 'neu', 'pos']):\n",
    "            prob_type = aspect + \"_\" + label\n",
    "            prob_dict.update({prob_type: prob})\n",
    "            \n",
    "    for x in prob_dict:\n",
    "        comment_row_values.append(prob_dict[x])        \n",
    "        \n",
    "    comment_sentiment_df.loc[len(comment_sentiment_df.index)] = comment_row_values\n",
    "    "
   ]
  },
  {
   "cell_type": "code",
   "execution_count": 56,
   "id": "ebd9ff19-c7b6-493b-b1f5-aed0b195f677",
   "metadata": {},
   "outputs": [
    {
     "data": {
      "text/html": [
       "<div>\n",
       "<style scoped>\n",
       "    .dataframe tbody tr th:only-of-type {\n",
       "        vertical-align: middle;\n",
       "    }\n",
       "\n",
       "    .dataframe tbody tr th {\n",
       "        vertical-align: top;\n",
       "    }\n",
       "\n",
       "    .dataframe thead th {\n",
       "        text-align: right;\n",
       "    }\n",
       "</style>\n",
       "<table border=\"1\" class=\"dataframe\">\n",
       "  <thead>\n",
       "    <tr style=\"text-align: right;\">\n",
       "      <th></th>\n",
       "      <th>text</th>\n",
       "      <th>joking_neg</th>\n",
       "      <th>joking_neu</th>\n",
       "      <th>joking_pos</th>\n",
       "      <th>excited_neg</th>\n",
       "      <th>excited_neu</th>\n",
       "      <th>excited_pos</th>\n",
       "      <th>depressing_neg</th>\n",
       "      <th>depressing_neu</th>\n",
       "      <th>depressing_pos</th>\n",
       "      <th>...</th>\n",
       "      <th>sarcastic_pos</th>\n",
       "      <th>frustrating_neg</th>\n",
       "      <th>frustrating_neu</th>\n",
       "      <th>frustrating_pos</th>\n",
       "      <th>annoying_neg</th>\n",
       "      <th>annoying_neu</th>\n",
       "      <th>annoying_pos</th>\n",
       "      <th>joyful_neg</th>\n",
       "      <th>joyful_neu</th>\n",
       "      <th>joyful_pos</th>\n",
       "    </tr>\n",
       "  </thead>\n",
       "  <tbody>\n",
       "    <tr>\n",
       "      <th>0</th>\n",
       "      <td>[**Join Our Discord Server!**](https://discord...</td>\n",
       "      <td>0.005891</td>\n",
       "      <td>0.281654</td>\n",
       "      <td>0.712456</td>\n",
       "      <td>0.003729</td>\n",
       "      <td>0.140673</td>\n",
       "      <td>0.855598</td>\n",
       "      <td>0.020873</td>\n",
       "      <td>0.377524</td>\n",
       "      <td>0.601603</td>\n",
       "      <td>...</td>\n",
       "      <td>0.618545</td>\n",
       "      <td>0.026091</td>\n",
       "      <td>0.305376</td>\n",
       "      <td>0.668533</td>\n",
       "      <td>0.024124</td>\n",
       "      <td>0.271976</td>\n",
       "      <td>0.703900</td>\n",
       "      <td>0.003701</td>\n",
       "      <td>0.142863</td>\n",
       "      <td>0.853436</td>\n",
       "    </tr>\n",
       "    <tr>\n",
       "      <th>1</th>\n",
       "      <td>Righteous men lift up others. Let’s go</td>\n",
       "      <td>0.095762</td>\n",
       "      <td>0.551613</td>\n",
       "      <td>0.352625</td>\n",
       "      <td>0.015565</td>\n",
       "      <td>0.598750</td>\n",
       "      <td>0.385685</td>\n",
       "      <td>0.783246</td>\n",
       "      <td>0.133168</td>\n",
       "      <td>0.083586</td>\n",
       "      <td>...</td>\n",
       "      <td>0.082659</td>\n",
       "      <td>0.768398</td>\n",
       "      <td>0.110655</td>\n",
       "      <td>0.120947</td>\n",
       "      <td>0.683202</td>\n",
       "      <td>0.213282</td>\n",
       "      <td>0.103516</td>\n",
       "      <td>0.012229</td>\n",
       "      <td>0.311493</td>\n",
       "      <td>0.676279</td>\n",
       "    </tr>\n",
       "    <tr>\n",
       "      <th>2</th>\n",
       "      <td>Respect!</td>\n",
       "      <td>0.639649</td>\n",
       "      <td>0.276650</td>\n",
       "      <td>0.083701</td>\n",
       "      <td>0.012782</td>\n",
       "      <td>0.128441</td>\n",
       "      <td>0.858776</td>\n",
       "      <td>0.942629</td>\n",
       "      <td>0.048862</td>\n",
       "      <td>0.008509</td>\n",
       "      <td>...</td>\n",
       "      <td>0.012318</td>\n",
       "      <td>0.983576</td>\n",
       "      <td>0.014221</td>\n",
       "      <td>0.002203</td>\n",
       "      <td>0.986965</td>\n",
       "      <td>0.010728</td>\n",
       "      <td>0.002306</td>\n",
       "      <td>0.011857</td>\n",
       "      <td>0.190070</td>\n",
       "      <td>0.798073</td>\n",
       "    </tr>\n",
       "    <tr>\n",
       "      <th>3</th>\n",
       "      <td>He gave us Raptors fans lots to cheer for when...</td>\n",
       "      <td>0.017280</td>\n",
       "      <td>0.073487</td>\n",
       "      <td>0.909233</td>\n",
       "      <td>0.006620</td>\n",
       "      <td>0.047867</td>\n",
       "      <td>0.945514</td>\n",
       "      <td>0.248915</td>\n",
       "      <td>0.063809</td>\n",
       "      <td>0.687276</td>\n",
       "      <td>...</td>\n",
       "      <td>0.849271</td>\n",
       "      <td>0.201285</td>\n",
       "      <td>0.067002</td>\n",
       "      <td>0.731713</td>\n",
       "      <td>0.217268</td>\n",
       "      <td>0.079584</td>\n",
       "      <td>0.703148</td>\n",
       "      <td>0.005747</td>\n",
       "      <td>0.031516</td>\n",
       "      <td>0.962737</td>\n",
       "    </tr>\n",
       "    <tr>\n",
       "      <th>4</th>\n",
       "      <td>Is there a better name for a center in the his...</td>\n",
       "      <td>0.274907</td>\n",
       "      <td>0.194266</td>\n",
       "      <td>0.530827</td>\n",
       "      <td>0.015186</td>\n",
       "      <td>0.261299</td>\n",
       "      <td>0.723515</td>\n",
       "      <td>0.835062</td>\n",
       "      <td>0.139984</td>\n",
       "      <td>0.024954</td>\n",
       "      <td>...</td>\n",
       "      <td>0.110084</td>\n",
       "      <td>0.846466</td>\n",
       "      <td>0.135524</td>\n",
       "      <td>0.018010</td>\n",
       "      <td>0.929524</td>\n",
       "      <td>0.060339</td>\n",
       "      <td>0.010136</td>\n",
       "      <td>0.013693</td>\n",
       "      <td>0.187314</td>\n",
       "      <td>0.798993</td>\n",
       "    </tr>\n",
       "  </tbody>\n",
       "</table>\n",
       "<p>5 rows × 22 columns</p>\n",
       "</div>"
      ],
      "text/plain": [
       "                                                text  joking_neg  joking_neu  \\\n",
       "0  [**Join Our Discord Server!**](https://discord...    0.005891    0.281654   \n",
       "1             Righteous men lift up others. Let’s go    0.095762    0.551613   \n",
       "2                                           Respect!    0.639649    0.276650   \n",
       "3  He gave us Raptors fans lots to cheer for when...    0.017280    0.073487   \n",
       "4  Is there a better name for a center in the his...    0.274907    0.194266   \n",
       "\n",
       "   joking_pos  excited_neg  excited_neu  excited_pos  depressing_neg  \\\n",
       "0    0.712456     0.003729     0.140673     0.855598        0.020873   \n",
       "1    0.352625     0.015565     0.598750     0.385685        0.783246   \n",
       "2    0.083701     0.012782     0.128441     0.858776        0.942629   \n",
       "3    0.909233     0.006620     0.047867     0.945514        0.248915   \n",
       "4    0.530827     0.015186     0.261299     0.723515        0.835062   \n",
       "\n",
       "   depressing_neu  depressing_pos  ...  sarcastic_pos  frustrating_neg  \\\n",
       "0        0.377524        0.601603  ...       0.618545         0.026091   \n",
       "1        0.133168        0.083586  ...       0.082659         0.768398   \n",
       "2        0.048862        0.008509  ...       0.012318         0.983576   \n",
       "3        0.063809        0.687276  ...       0.849271         0.201285   \n",
       "4        0.139984        0.024954  ...       0.110084         0.846466   \n",
       "\n",
       "   frustrating_neu  frustrating_pos  annoying_neg  annoying_neu  annoying_pos  \\\n",
       "0         0.305376         0.668533      0.024124      0.271976      0.703900   \n",
       "1         0.110655         0.120947      0.683202      0.213282      0.103516   \n",
       "2         0.014221         0.002203      0.986965      0.010728      0.002306   \n",
       "3         0.067002         0.731713      0.217268      0.079584      0.703148   \n",
       "4         0.135524         0.018010      0.929524      0.060339      0.010136   \n",
       "\n",
       "   joyful_neg  joyful_neu  joyful_pos  \n",
       "0    0.003701    0.142863    0.853436  \n",
       "1    0.012229    0.311493    0.676279  \n",
       "2    0.011857    0.190070    0.798073  \n",
       "3    0.005747    0.031516    0.962737  \n",
       "4    0.013693    0.187314    0.798993  \n",
       "\n",
       "[5 rows x 22 columns]"
      ]
     },
     "execution_count": 56,
     "metadata": {},
     "output_type": "execute_result"
    }
   ],
   "source": [
    "comment_sentiment_df.head()"
   ]
  },
  {
   "cell_type": "code",
   "execution_count": 57,
   "id": "901f23c6-60cc-4001-94e6-0514396661ff",
   "metadata": {},
   "outputs": [
    {
     "name": "stderr",
     "output_type": "stream",
     "text": [
      "/var/folders/8x/96fv9lvs3ts4pvsg8w_06j4r0000gn/T/ipykernel_87155/2458701697.py:1: FutureWarning: The default value of numeric_only in DataFrame.mean is deprecated. In a future version, it will default to False. In addition, specifying 'numeric_only=None' is deprecated. Select only valid columns or specify the value of numeric_only to silence this warning.\n",
      "  comment_sentiment_df.mean()\n"
     ]
    },
    {
     "data": {
      "text/plain": [
       "joking_neg         0.342384\n",
       "joking_neu         0.244332\n",
       "joking_pos         0.413283\n",
       "excited_neg        0.117800\n",
       "excited_neu        0.244651\n",
       "excited_pos        0.637548\n",
       "depressing_neg     0.716802\n",
       "depressing_neu     0.107442\n",
       "depressing_pos     0.175756\n",
       "sarcastic_neg      0.431786\n",
       "sarcastic_neu      0.310909\n",
       "sarcastic_pos      0.257305\n",
       "frustrating_neg    0.754063\n",
       "frustrating_neu    0.089738\n",
       "frustrating_pos    0.156199\n",
       "annoying_neg       0.777193\n",
       "annoying_neu       0.084720\n",
       "annoying_pos       0.138087\n",
       "joyful_neg         0.109033\n",
       "joyful_neu         0.190000\n",
       "joyful_pos         0.700967\n",
       "dtype: float32"
      ]
     },
     "execution_count": 57,
     "metadata": {},
     "output_type": "execute_result"
    }
   ],
   "source": [
    "comment_sentiment_df.mean()"
   ]
  },
  {
   "cell_type": "markdown",
   "id": "18678291-0502-44c7-af8c-e5e52d95eecd",
   "metadata": {},
   "source": [
    "Based on this aspect based sentiment analysis, the joyful and excited aspects were the most postive."
   ]
  },
  {
   "cell_type": "code",
   "execution_count": 58,
   "id": "84663ef2-be02-4331-992b-26a954bce042",
   "metadata": {},
   "outputs": [],
   "source": [
    "response = response_request(prompt_gen('joking'), post_df.iloc[0]['title'])\n",
    "response2 = response_request(prompt_gen('excited'), post_df.iloc[0]['title'])"
   ]
  },
  {
   "cell_type": "code",
   "execution_count": 59,
   "id": "ae4f45ad-df2f-4a12-822a-08b39c3017d7",
   "metadata": {},
   "outputs": [
    {
     "data": {
      "text/plain": [
       "'\"Wow, what a guy! I bet he\\'s really popular with the ladies now.\"'"
      ]
     },
     "execution_count": 59,
     "metadata": {},
     "output_type": "execute_result"
    }
   ],
   "source": [
    "formatted_response = getResponseText(response)\n",
    "formatted_response"
   ]
  },
  {
   "cell_type": "code",
   "execution_count": 60,
   "id": "c6e2976d-bb57-4921-be10-57a1056d038e",
   "metadata": {},
   "outputs": [
    {
     "data": {
      "text/plain": [
       "'This is amazing news! Bismack Biyombo is an incredible human being.'"
      ]
     },
     "execution_count": 60,
     "metadata": {},
     "output_type": "execute_result"
    }
   ],
   "source": [
    "formatted_response2 = getResponseText(response2)\n",
    "formatted_response2"
   ]
  },
  {
   "cell_type": "code",
   "execution_count": 32,
   "id": "14ba2608-8f70-45e8-bfb6-f0d39912951e",
   "metadata": {},
   "outputs": [
    {
     "name": "stdout",
     "output_type": "stream",
     "text": [
      "Label joking_neg: 0.02469404600560665\n",
      "Label joking_neu: 0.3453378677368164\n",
      "Label joking_pos: 0.6299680471420288\n",
      "Label excited_neg: 0.007943980395793915\n",
      "Label excited_neu: 0.30738797783851624\n",
      "Label excited_pos: 0.6846680641174316\n",
      "Label depressing_neg: 0.2925586700439453\n",
      "Label depressing_neu: 0.45012813806533813\n",
      "Label depressing_pos: 0.25731325149536133\n",
      "Label sarcastic_neg: 0.06050918996334076\n",
      "Label sarcastic_neu: 0.6702908873558044\n",
      "Label sarcastic_pos: 0.269199937582016\n",
      "Label frustrating_neg: 0.6284207701683044\n",
      "Label frustrating_neu: 0.289056658744812\n",
      "Label frustrating_pos: 0.08252254128456116\n",
      "Label annoying_neg: 0.6579211354255676\n",
      "Label annoying_neu: 0.1946270912885666\n",
      "Label annoying_pos: 0.14745169878005981\n",
      "Label joyful_neg: 0.004180455580353737\n",
      "Label joyful_neu: 0.09523093700408936\n",
      "Label joyful_pos: 0.9005885720252991\n"
     ]
    }
   ],
   "source": [
    "return_df = get_sentiment_values(formatted_response, aspect_keywords, gen_comment_sentiment_df)"
   ]
  },
  {
   "cell_type": "code",
   "execution_count": 33,
   "id": "66aad672-ed55-439f-bbe9-815fb56cd28d",
   "metadata": {},
   "outputs": [
    {
     "name": "stdout",
     "output_type": "stream",
     "text": [
      "Label joking_neg: 0.011812146753072739\n",
      "Label joking_neu: 0.03811014071106911\n",
      "Label joking_pos: 0.9500777721405029\n",
      "Label excited_neg: 0.0014787166146561503\n",
      "Label excited_neu: 0.015639524906873703\n",
      "Label excited_pos: 0.9828817844390869\n",
      "Label depressing_neg: 0.41082707047462463\n",
      "Label depressing_neu: 0.255340576171875\n",
      "Label depressing_pos: 0.33383238315582275\n",
      "Label sarcastic_neg: 0.07820019870996475\n",
      "Label sarcastic_neu: 0.24669212102890015\n",
      "Label sarcastic_pos: 0.6751077175140381\n",
      "Label frustrating_neg: 0.7174177169799805\n",
      "Label frustrating_neu: 0.11704625189304352\n",
      "Label frustrating_pos: 0.1655360460281372\n",
      "Label annoying_neg: 0.5982942581176758\n",
      "Label annoying_neu: 0.16031400859355927\n",
      "Label annoying_pos: 0.24139171838760376\n",
      "Label joyful_neg: 0.001419078791514039\n",
      "Label joyful_neu: 0.013639269396662712\n",
      "Label joyful_pos: 0.9849416017532349\n"
     ]
    }
   ],
   "source": [
    "return_df2 = get_sentiment_values(formatted_response2, aspect_keywords, gen_comment_sentiment_df)"
   ]
  },
  {
   "cell_type": "code",
   "execution_count": 34,
   "id": "bec2d232-cf68-47b1-bf11-4d780f73cfc2",
   "metadata": {},
   "outputs": [
    {
     "data": {
      "image/png": "[encoded data removed]",
      "text/plain": [
       "<Figure size 640x480 with 1 Axes>"
      ]
     },
     "metadata": {},
     "output_type": "display_data"
    }
   ],
   "source": [
    "ax1 = comment_sentiment_df.plot.scatter(x='joyful_neg', y='joyful_pos', c='blue')\n",
    "ax2 = return_df2.plot.scatter(x='joyful_neg', y='joyful_pos', c='red', ax=ax1)"
   ]
  },
  {
   "cell_type": "code",
   "execution_count": 260,
   "id": "54dcf63e-aa77-4122-a4e1-d5bc2302be7e",
   "metadata": {},
   "outputs": [],
   "source": [
    "responses = []\n",
    "\n",
    "for aspect in aspect_keywords:\n",
    "    response = response_request(prompt_gen(aspect), post_df.iloc[0]['title'])\n",
    "    responses.append(getResponseText(response))"
   ]
  },
  {
   "cell_type": "code",
   "execution_count": 261,
   "id": "d9b923a5-aad2-4932-a78e-b29d1167b8fe",
   "metadata": {},
   "outputs": [
    {
     "data": {
      "text/plain": [
       "['\"Wow, those Hopkins lacrosse players are really sneaky! I bet the Navy players feel pretty foolish right about now.\"',\n",
       " \"Wow! That's amazing!\",\n",
       " 'This is the world we live in.',\n",
       " '\"Wow, those Hopkins lacrosse players are really smart! I\\'m sure the Navy players feel really stupid now.\"',\n",
       " 'This is the most frustrating thing ever.',\n",
       " 'This is the most exciting thing to happen in lacrosse in years!',\n",
       " \"That's amazing! Hopkins is my favorite team!\"]"
      ]
     },
     "execution_count": 261,
     "metadata": {},
     "output_type": "execute_result"
    }
   ],
   "source": [
    "responses"
   ]
  },
  {
   "cell_type": "code",
   "execution_count": 262,
   "id": "189c15f8-67cc-4953-bc28-0ae81d7aca1c",
   "metadata": {},
   "outputs": [],
   "source": [
    "top_ten_df = comments_df.sort_values(by=['upvotes'], ascending=False).head(10)\n",
    "bottom_ten_df = comments_df.sort_values(by=['upvotes']).head(10)"
   ]
  },
  {
   "cell_type": "code",
   "execution_count": 263,
   "id": "fd48d33f-df75-4568-8d13-c6e2bc2fc576",
   "metadata": {},
   "outputs": [
    {
     "name": "stdout",
     "output_type": "stream",
     "text": [
      "It's the opposing goalkeeper, frozen like a statue and oblivious that really does it for me.\n",
      "didn't fool the camera man luckily!\n",
      "[deleted]\n",
      "I don’t know much about lacrosse so whenever I watch it the ball’s hidden from me 80% of the game \n",
      "What’s even more amazing is that one guy, Johns, is beating the entire Navy team 8-7\n",
      "I like how the mannequin standing in the goal was dressed. \n",
      "Ref on that sharingan \n",
      "Still not an easy shot. \n",
      "Damn I haven't seen Navy caught that off guard since Pearl Harbor\n",
      "If anyone is interested in learning more about this sport, the NCAA DI Championship game will be televised tomorrow on ESPN2 at 1:00** ET.\n",
      "\n",
      "We apologize in advance for the announcer known as Quint.\n",
      "\n",
      "EDIT: sorry, 1 pm\n"
     ]
    }
   ],
   "source": [
    "for index, row in top_ten_df.iterrows():\n",
    "    print(row['text'])"
   ]
  },
  {
   "cell_type": "code",
   "execution_count": 264,
   "id": "006f879c-5480-494e-a9a1-37853caf9a1d",
   "metadata": {},
   "outputs": [
    {
     "name": "stdout",
     "output_type": "stream",
     "text": [
      "Navy #44 is still covering the Hopkins player #55. This is just a good shot.\n",
      "Lacrosse is the worst.\n",
      "Good job Conner\n",
      "Got eeeeem\n",
      "I have never seen this before wow !\n",
      "Wait when was this game? I don't remember seeing it\n",
      "Gotta love the old school tricks\n",
      "\"Hey, did they just score?\"\n",
      "\n",
      "\"I think you might be right...\"\n",
      "The goalee didn’t even flinch as the ball flew right past him lmao \n",
      "If this happened to a team I was on, my head would explode.\n"
     ]
    }
   ],
   "source": [
    "for index, row in bottom_ten_df.iterrows():\n",
    "    print(row['text'])"
   ]
  },
  {
   "cell_type": "code",
   "execution_count": null,
   "id": "e32d35bf-26ce-47c0-89fd-da37925b0dda",
   "metadata": {},
   "outputs": [],
   "source": [
    "   "
   ]
  },
  {
   "cell_type": "code",
   "execution_count": 343,
   "id": "ad718160-ef66-4205-803d-8de1147e90db",
   "metadata": {},
   "outputs": [],
   "source": [
    "root_dir = \"subreddit/sports/\"\n",
    "\n",
    "ran_post = random.choice(os.listdir(root_dir))\n",
    "\n",
    "post_df = pd.read_csv(root_dir + ran_post + \"/\" + ran_post)\n",
    "comments_df = pd.read_csv(root_dir + ran_post + \"/\" + ran_post + \"_comments\")"
   ]
  },
  {
   "cell_type": "code",
   "execution_count": 344,
   "id": "54eb9383-7f8f-4882-a0da-0c9dbf7d1805",
   "metadata": {},
   "outputs": [
    {
     "name": "stdout",
     "output_type": "stream",
     "text": [
      "Post Metadata\n",
      "ID: 116\n",
      "Title: Irvin Cardona spectacular mid-air volley during french Ligue 1\n",
      "Score: 64143\n",
      "Time Posted: 2020-09-14 01:00:08\n",
      "Number of Comments: 1059\n"
     ]
    }
   ],
   "source": [
    "print(\"Post Metadata\")\n",
    "\n",
    "print(f\"ID: {str(post_df.iloc[0]['id'])}\")\n",
    "print(f\"Title: {post_df.iloc[0]['title']}\")\n",
    "print(f\"Score: {post_df.iloc[0]['upvotes']}\")\n",
    "print(f\"Time Posted: {post_df.iloc[0]['time']}\")\n",
    "print(f\"Number of Comments: {post_df.iloc[0]['num_comments']}\")"
   ]
  },
  {
   "cell_type": "code",
   "execution_count": 345,
   "id": "e525a42a-cfd3-4b39-9a1a-5515546d1faa",
   "metadata": {},
   "outputs": [
    {
     "data": {
      "text/plain": [
       "'match\\n\\n\"He must have been watching a lot of FIFA lately!\"'"
      ]
     },
     "execution_count": 345,
     "metadata": {},
     "output_type": "execute_result"
    }
   ],
   "source": [
    "post_title = post_df.iloc[0]['title']\n",
    "\n",
    "response = openai.Completion.create(\n",
    "  model=\"text-davinci-002\",\n",
    "  prompt=\"Make a joking comment about: \" + post_title,\n",
    "  temperature=0,\n",
    "  max_tokens=100,\n",
    "  top_p=1,\n",
    "  frequency_penalty=0,\n",
    "  presence_penalty=0\n",
    ")\n",
    "\n",
    "getResponseText(response)"
   ]
  },
  {
   "cell_type": "code",
   "execution_count": 346,
   "id": "ec6c7877-218a-4a6c-b0a9-d5742e2eaaa2",
   "metadata": {},
   "outputs": [],
   "source": [
    "top_ten_df = comments_df.sort_values(by=['upvotes'], ascending=False).head(10)\n",
    "bottom_ten_df = comments_df.sort_values(by=['upvotes']).head(10)"
   ]
  },
  {
   "cell_type": "code",
   "execution_count": 347,
   "id": "4bdaa90b-6ec9-436d-8932-2713a4c5abb1",
   "metadata": {},
   "outputs": [
    {
     "data": {
      "text/html": [
       "<div>\n",
       "<style scoped>\n",
       "    .dataframe tbody tr th:only-of-type {\n",
       "        vertical-align: middle;\n",
       "    }\n",
       "\n",
       "    .dataframe tbody tr th {\n",
       "        vertical-align: top;\n",
       "    }\n",
       "\n",
       "    .dataframe thead th {\n",
       "        text-align: right;\n",
       "    }\n",
       "</style>\n",
       "<table border=\"1\" class=\"dataframe\">\n",
       "  <thead>\n",
       "    <tr style=\"text-align: right;\">\n",
       "      <th></th>\n",
       "      <th>id</th>\n",
       "      <th>text</th>\n",
       "      <th>time</th>\n",
       "      <th>upvotes</th>\n",
       "      <th>length</th>\n",
       "      <th>assessment</th>\n",
       "    </tr>\n",
       "  </thead>\n",
       "  <tbody>\n",
       "    <tr>\n",
       "      <th>2</th>\n",
       "      <td>2</td>\n",
       "      <td>That is one of the most spectacular sports hig...</td>\n",
       "      <td>2020-09-14 02:01:52</td>\n",
       "      <td>5039</td>\n",
       "      <td>0</td>\n",
       "      <td>0</td>\n",
       "    </tr>\n",
       "    <tr>\n",
       "      <th>3</th>\n",
       "      <td>3</td>\n",
       "      <td>This is what manga-type soccer would look like...</td>\n",
       "      <td>2020-09-14 01:27:12</td>\n",
       "      <td>3640</td>\n",
       "      <td>0</td>\n",
       "      <td>0</td>\n",
       "    </tr>\n",
       "    <tr>\n",
       "      <th>4</th>\n",
       "      <td>4</td>\n",
       "      <td>This guy must have loved the movie shaolin soccer</td>\n",
       "      <td>2020-09-14 02:18:41</td>\n",
       "      <td>1281</td>\n",
       "      <td>0</td>\n",
       "      <td>0</td>\n",
       "    </tr>\n",
       "    <tr>\n",
       "      <th>5</th>\n",
       "      <td>5</td>\n",
       "      <td>GOTY material</td>\n",
       "      <td>2020-09-14 02:01:27</td>\n",
       "      <td>685</td>\n",
       "      <td>0</td>\n",
       "      <td>0</td>\n",
       "    </tr>\n",
       "    <tr>\n",
       "      <th>8</th>\n",
       "      <td>8</td>\n",
       "      <td>Thing I always find most impressive in goals l...</td>\n",
       "      <td>2020-09-14 02:58:43</td>\n",
       "      <td>626</td>\n",
       "      <td>0</td>\n",
       "      <td>0</td>\n",
       "    </tr>\n",
       "    <tr>\n",
       "      <th>1</th>\n",
       "      <td>1</td>\n",
       "      <td>This is what all the other pro footballers ima...</td>\n",
       "      <td>2020-09-14 03:52:33</td>\n",
       "      <td>292</td>\n",
       "      <td>0</td>\n",
       "      <td>0</td>\n",
       "    </tr>\n",
       "    <tr>\n",
       "      <th>6</th>\n",
       "      <td>6</td>\n",
       "      <td>I played soccer for 20 years, noone told me fl...</td>\n",
       "      <td>2020-09-14 03:36:28</td>\n",
       "      <td>256</td>\n",
       "      <td>0</td>\n",
       "      <td>0</td>\n",
       "    </tr>\n",
       "    <tr>\n",
       "      <th>9</th>\n",
       "      <td>9</td>\n",
       "      <td>And to think, immediately following this goal,...</td>\n",
       "      <td>2020-09-14 04:29:55</td>\n",
       "      <td>206</td>\n",
       "      <td>0</td>\n",
       "      <td>0</td>\n",
       "    </tr>\n",
       "    <tr>\n",
       "      <th>7</th>\n",
       "      <td>7</td>\n",
       "      <td>[deleted]</td>\n",
       "      <td>2020-09-14 02:34:29</td>\n",
       "      <td>153</td>\n",
       "      <td>0</td>\n",
       "      <td>0</td>\n",
       "    </tr>\n",
       "    <tr>\n",
       "      <th>12</th>\n",
       "      <td>12</td>\n",
       "      <td>wow the level of athleticism!</td>\n",
       "      <td>2020-09-14 02:17:37</td>\n",
       "      <td>44</td>\n",
       "      <td>0</td>\n",
       "      <td>0</td>\n",
       "    </tr>\n",
       "  </tbody>\n",
       "</table>\n",
       "</div>"
      ],
      "text/plain": [
       "    id                                               text  \\\n",
       "2    2  That is one of the most spectacular sports hig...   \n",
       "3    3  This is what manga-type soccer would look like...   \n",
       "4    4  This guy must have loved the movie shaolin soccer   \n",
       "5    5                                      GOTY material   \n",
       "8    8  Thing I always find most impressive in goals l...   \n",
       "1    1  This is what all the other pro footballers ima...   \n",
       "6    6  I played soccer for 20 years, noone told me fl...   \n",
       "9    9  And to think, immediately following this goal,...   \n",
       "7    7                                          [deleted]   \n",
       "12  12                      wow the level of athleticism!   \n",
       "\n",
       "                   time  upvotes  length  assessment  \n",
       "2   2020-09-14 02:01:52     5039       0           0  \n",
       "3   2020-09-14 01:27:12     3640       0           0  \n",
       "4   2020-09-14 02:18:41     1281       0           0  \n",
       "5   2020-09-14 02:01:27      685       0           0  \n",
       "8   2020-09-14 02:58:43      626       0           0  \n",
       "1   2020-09-14 03:52:33      292       0           0  \n",
       "6   2020-09-14 03:36:28      256       0           0  \n",
       "9   2020-09-14 04:29:55      206       0           0  \n",
       "7   2020-09-14 02:34:29      153       0           0  \n",
       "12  2020-09-14 02:17:37       44       0           0  "
      ]
     },
     "execution_count": 347,
     "metadata": {},
     "output_type": "execute_result"
    }
   ],
   "source": [
    "top_ten_df"
   ]
  },
  {
   "cell_type": "code",
   "execution_count": 348,
   "id": "013d4a5d-5786-4c93-901b-ffe2c4a6218b",
   "metadata": {},
   "outputs": [
    {
     "data": {
      "text/html": [
       "<div>\n",
       "<style scoped>\n",
       "    .dataframe tbody tr th:only-of-type {\n",
       "        vertical-align: middle;\n",
       "    }\n",
       "\n",
       "    .dataframe tbody tr th {\n",
       "        vertical-align: top;\n",
       "    }\n",
       "\n",
       "    .dataframe thead th {\n",
       "        text-align: right;\n",
       "    }\n",
       "</style>\n",
       "<table border=\"1\" class=\"dataframe\">\n",
       "  <thead>\n",
       "    <tr style=\"text-align: right;\">\n",
       "      <th></th>\n",
       "      <th>id</th>\n",
       "      <th>text</th>\n",
       "      <th>time</th>\n",
       "      <th>upvotes</th>\n",
       "      <th>length</th>\n",
       "      <th>assessment</th>\n",
       "    </tr>\n",
       "  </thead>\n",
       "  <tbody>\n",
       "    <tr>\n",
       "      <th>0</th>\n",
       "      <td>0</td>\n",
       "      <td>[**Join Our Discord Server!**](https://discord...</td>\n",
       "      <td>2020-09-14 01:05:04</td>\n",
       "      <td>1</td>\n",
       "      <td>0</td>\n",
       "      <td>0</td>\n",
       "    </tr>\n",
       "    <tr>\n",
       "      <th>136</th>\n",
       "      <td>136</td>\n",
       "      <td>Kung Fu kick haven't seen that in a while</td>\n",
       "      <td>2020-09-14 06:51:42</td>\n",
       "      <td>1</td>\n",
       "      <td>0</td>\n",
       "      <td>0</td>\n",
       "    </tr>\n",
       "    <tr>\n",
       "      <th>137</th>\n",
       "      <td>137</td>\n",
       "      <td>Galactik football type of shit</td>\n",
       "      <td>2020-09-14 06:52:58</td>\n",
       "      <td>1</td>\n",
       "      <td>0</td>\n",
       "      <td>0</td>\n",
       "    </tr>\n",
       "    <tr>\n",
       "      <th>138</th>\n",
       "      <td>138</td>\n",
       "      <td>This is like in sports games when it slows dow...</td>\n",
       "      <td>2020-09-14 06:53:50</td>\n",
       "      <td>1</td>\n",
       "      <td>0</td>\n",
       "      <td>0</td>\n",
       "    </tr>\n",
       "    <tr>\n",
       "      <th>139</th>\n",
       "      <td>139</td>\n",
       "      <td>The karate kid , French ligue version</td>\n",
       "      <td>2020-09-14 06:54:49</td>\n",
       "      <td>1</td>\n",
       "      <td>0</td>\n",
       "      <td>0</td>\n",
       "    </tr>\n",
       "    <tr>\n",
       "      <th>140</th>\n",
       "      <td>140</td>\n",
       "      <td>This is the Air Jordan of soccer</td>\n",
       "      <td>2020-09-14 06:55:23</td>\n",
       "      <td>1</td>\n",
       "      <td>0</td>\n",
       "      <td>0</td>\n",
       "    </tr>\n",
       "    <tr>\n",
       "      <th>141</th>\n",
       "      <td>141</td>\n",
       "      <td>u/vredditdownload</td>\n",
       "      <td>2020-09-14 06:56:27</td>\n",
       "      <td>1</td>\n",
       "      <td>0</td>\n",
       "      <td>0</td>\n",
       "    </tr>\n",
       "    <tr>\n",
       "      <th>142</th>\n",
       "      <td>142</td>\n",
       "      <td>Unreal athleticism</td>\n",
       "      <td>2020-09-14 06:57:55</td>\n",
       "      <td>1</td>\n",
       "      <td>0</td>\n",
       "      <td>0</td>\n",
       "    </tr>\n",
       "    <tr>\n",
       "      <th>143</th>\n",
       "      <td>143</td>\n",
       "      <td>u/vredditdownloader</td>\n",
       "      <td>2020-09-14 06:59:40</td>\n",
       "      <td>1</td>\n",
       "      <td>0</td>\n",
       "      <td>0</td>\n",
       "    </tr>\n",
       "    <tr>\n",
       "      <th>144</th>\n",
       "      <td>144</td>\n",
       "      <td>Very shaolin socceresqe, great goal!</td>\n",
       "      <td>2020-09-14 07:02:03</td>\n",
       "      <td>1</td>\n",
       "      <td>0</td>\n",
       "      <td>0</td>\n",
       "    </tr>\n",
       "  </tbody>\n",
       "</table>\n",
       "</div>"
      ],
      "text/plain": [
       "      id                                               text  \\\n",
       "0      0  [**Join Our Discord Server!**](https://discord...   \n",
       "136  136          Kung Fu kick haven't seen that in a while   \n",
       "137  137                     Galactik football type of shit   \n",
       "138  138  This is like in sports games when it slows dow...   \n",
       "139  139              The karate kid , French ligue version   \n",
       "140  140                   This is the Air Jordan of soccer   \n",
       "141  141                                  u/vredditdownload   \n",
       "142  142                                 Unreal athleticism   \n",
       "143  143                                u/vredditdownloader   \n",
       "144  144               Very shaolin socceresqe, great goal!   \n",
       "\n",
       "                    time  upvotes  length  assessment  \n",
       "0    2020-09-14 01:05:04        1       0           0  \n",
       "136  2020-09-14 06:51:42        1       0           0  \n",
       "137  2020-09-14 06:52:58        1       0           0  \n",
       "138  2020-09-14 06:53:50        1       0           0  \n",
       "139  2020-09-14 06:54:49        1       0           0  \n",
       "140  2020-09-14 06:55:23        1       0           0  \n",
       "141  2020-09-14 06:56:27        1       0           0  \n",
       "142  2020-09-14 06:57:55        1       0           0  \n",
       "143  2020-09-14 06:59:40        1       0           0  \n",
       "144  2020-09-14 07:02:03        1       0           0  "
      ]
     },
     "execution_count": 348,
     "metadata": {},
     "output_type": "execute_result"
    }
   ],
   "source": [
    "bottom_ten_df"
   ]
  },
  {
   "cell_type": "code",
   "execution_count": 349,
   "id": "79969440-0d2c-405b-9b45-fca77cfac4a5",
   "metadata": {},
   "outputs": [],
   "source": [
    "columns_list = ['text']\n",
    "\n",
    "for keyword in aspect_keywords:\n",
    "    columns_list.append(keyword + \"_neg\")\n",
    "    columns_list.append(keyword + \"_neu\")\n",
    "    columns_list.append(keyword + \"_pos\")\n",
    "\n",
    "comment_sentiment_df = pd.DataFrame(columns=columns_list)\n",
    "gen_comment_sentiment_df = pd.DataFrame(columns=columns_list)"
   ]
  },
  {
   "cell_type": "code",
   "execution_count": null,
   "id": "7c0b0c3e-501f-422b-b01b-00ca7bd653b4",
   "metadata": {},
   "outputs": [],
   "source": [
    "for index, row in comments_df.iterrows():\n",
    "    row_text = row['text']\n",
    "    comment_row_values = [row_text]\n",
    "    prob_dict = {}\n",
    "\n",
    "    for aspect in aspect_keywords:\n",
    "        inputs = absa_tokenizer(f\"[CLS] {row['text']} [SEP] {aspect} [SEP]\", return_tensors=\"pt\")\n",
    "        outputs = absa_model(**inputs)\n",
    "        probs = F.softmax(outputs.logits, dim=1)\n",
    "        probs = probs.detach().numpy()[0]\n",
    "\n",
    "        for prob, label in zip(probs, ['neg', 'neu', 'pos']):\n",
    "            prob_type = aspect + \"_\" + label\n",
    "            prob_dict.update({prob_type: prob})\n",
    "            \n",
    "    for x in prob_dict:\n",
    "        comment_row_values.append(prob_dict[x])        \n",
    "        \n",
    "    comment_sentiment_df.loc[len(comment_sentiment_df.index)] = comment_row_values\n",
    "    "
   ]
  },
  {
   "cell_type": "code",
   "execution_count": null,
   "id": "eff05e84-ee3e-48fc-a5c6-7cc8140a1ac0",
   "metadata": {},
   "outputs": [],
   "source": [
    "comment_sentiment_df.mean()"
   ]
  }
 ],
 "metadata": {
  "kernelspec": {
   "display_name": "Python 3 (ipykernel)",
   "language": "python",
   "name": "python3"
  },
  "language_info": {
   "codemirror_mode": {
    "name": "ipython",
    "version": 3
   },
   "file_extension": ".py",
   "mimetype": "text/x-python",
   "name": "python",
   "nbconvert_exporter": "python",
   "pygments_lexer": "ipython3",
   "version": "3.9.6"
  }
 },
 "nbformat": 4,
 "nbformat_minor": 5
}
